{
  "nbformat": 4,
  "nbformat_minor": 0,
  "metadata": {
    "colab": {
      "provenance": []
    },
    "kernelspec": {
      "name": "python3",
      "display_name": "Python 3"
    },
    "language_info": {
      "name": "python"
    }
  },
  "cells": [
    {
      "cell_type": "code",
      "execution_count": null,
      "metadata": {
        "id": "SezJbYt0H9bA"
      },
      "outputs": [],
      "source": [
        "# for mathemaical operations\n",
        "import numpy as np\n",
        "# for dataframe manipulations\n",
        "import pandas as pd\n",
        "import seaborn as sns\n",
        "import matplotlib.pyplot as plt"
      ]
    },
    {
      "cell_type": "code",
      "source": [
        "# lets read the data set\n",
        "data = pd.read_csv('HRDataset_v14.csv')\n",
        "data.shape"
      ],
      "metadata": {
        "colab": {
          "base_uri": "https://localhost:8080/"
        },
        "id": "SkIBDuSLI4_y",
        "outputId": "d08ca84b-40d5-4769-96a1-543976ca9664"
      },
      "execution_count": null,
      "outputs": [
        {
          "output_type": "execute_result",
          "data": {
            "text/plain": [
              "(311, 36)"
            ]
          },
          "metadata": {},
          "execution_count": 2
        }
      ]
    },
    {
      "cell_type": "code",
      "source": [
        "data.head()"
      ],
      "metadata": {
        "colab": {
          "base_uri": "https://localhost:8080/",
          "height": 369
        },
        "id": "YNDKqDZ0JBPS",
        "outputId": "c04d4348-8237-459f-e7c3-63c16c42b7ea"
      },
      "execution_count": null,
      "outputs": [
        {
          "output_type": "execute_result",
          "data": {
            "text/plain": [
              "              Employee_Name  EmpID  MarriedID  MaritalStatusID  GenderID  \\\n",
              "0       Adinolfi, Wilson  K  10026          0                0         1   \n",
              "1  Ait Sidi, Karthikeyan     10084          1                1         1   \n",
              "2         Akinkuolie, Sarah  10196          1                1         0   \n",
              "3              Alagbe,Trina  10088          1                1         0   \n",
              "4          Anderson, Carol   10069          0                2         0   \n",
              "\n",
              "   EmpStatusID  DeptID  PerfScoreID  FromDiversityJobFairID  Salary  ...  \\\n",
              "0            1       5            4                       0   62506  ...   \n",
              "1            5       3            3                       0  104437  ...   \n",
              "2            5       5            3                       0   64955  ...   \n",
              "3            1       5            3                       0   64991  ...   \n",
              "4            5       5            3                       0   50825  ...   \n",
              "\n",
              "      ManagerName  ManagerID RecruitmentSource PerformanceScore  \\\n",
              "0  Michael Albert       22.0          LinkedIn          Exceeds   \n",
              "1      Simon Roup        4.0            Indeed      Fully Meets   \n",
              "2  Kissy Sullivan       20.0          LinkedIn      Fully Meets   \n",
              "3    Elijiah Gray       16.0            Indeed      Fully Meets   \n",
              "4  Webster Butler       39.0     Google Search      Fully Meets   \n",
              "\n",
              "   EngagementSurvey EmpSatisfaction SpecialProjectsCount  \\\n",
              "0              4.60               5                    0   \n",
              "1              4.96               3                    6   \n",
              "2              3.02               3                    0   \n",
              "3              4.84               5                    0   \n",
              "4              5.00               4                    0   \n",
              "\n",
              "  LastPerformanceReview_Date DaysLateLast30 Absences  \n",
              "0                  1/17/2019              0        1  \n",
              "1                  2/24/2016              0       17  \n",
              "2                  5/15/2012              0        3  \n",
              "3                   1/3/2019              0       15  \n",
              "4                   2/1/2016              0        2  \n",
              "\n",
              "[5 rows x 36 columns]"
            ],
            "text/html": [
              "\n",
              "  <div id=\"df-5f68fe56-6e29-41ba-8346-00701e29e15c\">\n",
              "    <div class=\"colab-df-container\">\n",
              "      <div>\n",
              "<style scoped>\n",
              "    .dataframe tbody tr th:only-of-type {\n",
              "        vertical-align: middle;\n",
              "    }\n",
              "\n",
              "    .dataframe tbody tr th {\n",
              "        vertical-align: top;\n",
              "    }\n",
              "\n",
              "    .dataframe thead th {\n",
              "        text-align: right;\n",
              "    }\n",
              "</style>\n",
              "<table border=\"1\" class=\"dataframe\">\n",
              "  <thead>\n",
              "    <tr style=\"text-align: right;\">\n",
              "      <th></th>\n",
              "      <th>Employee_Name</th>\n",
              "      <th>EmpID</th>\n",
              "      <th>MarriedID</th>\n",
              "      <th>MaritalStatusID</th>\n",
              "      <th>GenderID</th>\n",
              "      <th>EmpStatusID</th>\n",
              "      <th>DeptID</th>\n",
              "      <th>PerfScoreID</th>\n",
              "      <th>FromDiversityJobFairID</th>\n",
              "      <th>Salary</th>\n",
              "      <th>...</th>\n",
              "      <th>ManagerName</th>\n",
              "      <th>ManagerID</th>\n",
              "      <th>RecruitmentSource</th>\n",
              "      <th>PerformanceScore</th>\n",
              "      <th>EngagementSurvey</th>\n",
              "      <th>EmpSatisfaction</th>\n",
              "      <th>SpecialProjectsCount</th>\n",
              "      <th>LastPerformanceReview_Date</th>\n",
              "      <th>DaysLateLast30</th>\n",
              "      <th>Absences</th>\n",
              "    </tr>\n",
              "  </thead>\n",
              "  <tbody>\n",
              "    <tr>\n",
              "      <th>0</th>\n",
              "      <td>Adinolfi, Wilson  K</td>\n",
              "      <td>10026</td>\n",
              "      <td>0</td>\n",
              "      <td>0</td>\n",
              "      <td>1</td>\n",
              "      <td>1</td>\n",
              "      <td>5</td>\n",
              "      <td>4</td>\n",
              "      <td>0</td>\n",
              "      <td>62506</td>\n",
              "      <td>...</td>\n",
              "      <td>Michael Albert</td>\n",
              "      <td>22.0</td>\n",
              "      <td>LinkedIn</td>\n",
              "      <td>Exceeds</td>\n",
              "      <td>4.60</td>\n",
              "      <td>5</td>\n",
              "      <td>0</td>\n",
              "      <td>1/17/2019</td>\n",
              "      <td>0</td>\n",
              "      <td>1</td>\n",
              "    </tr>\n",
              "    <tr>\n",
              "      <th>1</th>\n",
              "      <td>Ait Sidi, Karthikeyan</td>\n",
              "      <td>10084</td>\n",
              "      <td>1</td>\n",
              "      <td>1</td>\n",
              "      <td>1</td>\n",
              "      <td>5</td>\n",
              "      <td>3</td>\n",
              "      <td>3</td>\n",
              "      <td>0</td>\n",
              "      <td>104437</td>\n",
              "      <td>...</td>\n",
              "      <td>Simon Roup</td>\n",
              "      <td>4.0</td>\n",
              "      <td>Indeed</td>\n",
              "      <td>Fully Meets</td>\n",
              "      <td>4.96</td>\n",
              "      <td>3</td>\n",
              "      <td>6</td>\n",
              "      <td>2/24/2016</td>\n",
              "      <td>0</td>\n",
              "      <td>17</td>\n",
              "    </tr>\n",
              "    <tr>\n",
              "      <th>2</th>\n",
              "      <td>Akinkuolie, Sarah</td>\n",
              "      <td>10196</td>\n",
              "      <td>1</td>\n",
              "      <td>1</td>\n",
              "      <td>0</td>\n",
              "      <td>5</td>\n",
              "      <td>5</td>\n",
              "      <td>3</td>\n",
              "      <td>0</td>\n",
              "      <td>64955</td>\n",
              "      <td>...</td>\n",
              "      <td>Kissy Sullivan</td>\n",
              "      <td>20.0</td>\n",
              "      <td>LinkedIn</td>\n",
              "      <td>Fully Meets</td>\n",
              "      <td>3.02</td>\n",
              "      <td>3</td>\n",
              "      <td>0</td>\n",
              "      <td>5/15/2012</td>\n",
              "      <td>0</td>\n",
              "      <td>3</td>\n",
              "    </tr>\n",
              "    <tr>\n",
              "      <th>3</th>\n",
              "      <td>Alagbe,Trina</td>\n",
              "      <td>10088</td>\n",
              "      <td>1</td>\n",
              "      <td>1</td>\n",
              "      <td>0</td>\n",
              "      <td>1</td>\n",
              "      <td>5</td>\n",
              "      <td>3</td>\n",
              "      <td>0</td>\n",
              "      <td>64991</td>\n",
              "      <td>...</td>\n",
              "      <td>Elijiah Gray</td>\n",
              "      <td>16.0</td>\n",
              "      <td>Indeed</td>\n",
              "      <td>Fully Meets</td>\n",
              "      <td>4.84</td>\n",
              "      <td>5</td>\n",
              "      <td>0</td>\n",
              "      <td>1/3/2019</td>\n",
              "      <td>0</td>\n",
              "      <td>15</td>\n",
              "    </tr>\n",
              "    <tr>\n",
              "      <th>4</th>\n",
              "      <td>Anderson, Carol</td>\n",
              "      <td>10069</td>\n",
              "      <td>0</td>\n",
              "      <td>2</td>\n",
              "      <td>0</td>\n",
              "      <td>5</td>\n",
              "      <td>5</td>\n",
              "      <td>3</td>\n",
              "      <td>0</td>\n",
              "      <td>50825</td>\n",
              "      <td>...</td>\n",
              "      <td>Webster Butler</td>\n",
              "      <td>39.0</td>\n",
              "      <td>Google Search</td>\n",
              "      <td>Fully Meets</td>\n",
              "      <td>5.00</td>\n",
              "      <td>4</td>\n",
              "      <td>0</td>\n",
              "      <td>2/1/2016</td>\n",
              "      <td>0</td>\n",
              "      <td>2</td>\n",
              "    </tr>\n",
              "  </tbody>\n",
              "</table>\n",
              "<p>5 rows × 36 columns</p>\n",
              "</div>\n",
              "      <button class=\"colab-df-convert\" onclick=\"convertToInteractive('df-5f68fe56-6e29-41ba-8346-00701e29e15c')\"\n",
              "              title=\"Convert this dataframe to an interactive table.\"\n",
              "              style=\"display:none;\">\n",
              "        \n",
              "  <svg xmlns=\"http://www.w3.org/2000/svg\" height=\"24px\"viewBox=\"0 0 24 24\"\n",
              "       width=\"24px\">\n",
              "    <path d=\"M0 0h24v24H0V0z\" fill=\"none\"/>\n",
              "    <path d=\"M18.56 5.44l.94 2.06.94-2.06 2.06-.94-2.06-.94-.94-2.06-.94 2.06-2.06.94zm-11 1L8.5 8.5l.94-2.06 2.06-.94-2.06-.94L8.5 2.5l-.94 2.06-2.06.94zm10 10l.94 2.06.94-2.06 2.06-.94-2.06-.94-.94-2.06-.94 2.06-2.06.94z\"/><path d=\"M17.41 7.96l-1.37-1.37c-.4-.4-.92-.59-1.43-.59-.52 0-1.04.2-1.43.59L10.3 9.45l-7.72 7.72c-.78.78-.78 2.05 0 2.83L4 21.41c.39.39.9.59 1.41.59.51 0 1.02-.2 1.41-.59l7.78-7.78 2.81-2.81c.8-.78.8-2.07 0-2.86zM5.41 20L4 18.59l7.72-7.72 1.47 1.35L5.41 20z\"/>\n",
              "  </svg>\n",
              "      </button>\n",
              "      \n",
              "  <style>\n",
              "    .colab-df-container {\n",
              "      display:flex;\n",
              "      flex-wrap:wrap;\n",
              "      gap: 12px;\n",
              "    }\n",
              "\n",
              "    .colab-df-convert {\n",
              "      background-color: #E8F0FE;\n",
              "      border: none;\n",
              "      border-radius: 50%;\n",
              "      cursor: pointer;\n",
              "      display: none;\n",
              "      fill: #1967D2;\n",
              "      height: 32px;\n",
              "      padding: 0 0 0 0;\n",
              "      width: 32px;\n",
              "    }\n",
              "\n",
              "    .colab-df-convert:hover {\n",
              "      background-color: #E2EBFA;\n",
              "      box-shadow: 0px 1px 2px rgba(60, 64, 67, 0.3), 0px 1px 3px 1px rgba(60, 64, 67, 0.15);\n",
              "      fill: #174EA6;\n",
              "    }\n",
              "\n",
              "    [theme=dark] .colab-df-convert {\n",
              "      background-color: #3B4455;\n",
              "      fill: #D2E3FC;\n",
              "    }\n",
              "\n",
              "    [theme=dark] .colab-df-convert:hover {\n",
              "      background-color: #434B5C;\n",
              "      box-shadow: 0px 1px 3px 1px rgba(0, 0, 0, 0.15);\n",
              "      filter: drop-shadow(0px 1px 2px rgba(0, 0, 0, 0.3));\n",
              "      fill: #FFFFFF;\n",
              "    }\n",
              "  </style>\n",
              "\n",
              "      <script>\n",
              "        const buttonEl =\n",
              "          document.querySelector('#df-5f68fe56-6e29-41ba-8346-00701e29e15c button.colab-df-convert');\n",
              "        buttonEl.style.display =\n",
              "          google.colab.kernel.accessAllowed ? 'block' : 'none';\n",
              "\n",
              "        async function convertToInteractive(key) {\n",
              "          const element = document.querySelector('#df-5f68fe56-6e29-41ba-8346-00701e29e15c');\n",
              "          const dataTable =\n",
              "            await google.colab.kernel.invokeFunction('convertToInteractive',\n",
              "                                                     [key], {});\n",
              "          if (!dataTable) return;\n",
              "\n",
              "          const docLinkHtml = 'Like what you see? Visit the ' +\n",
              "            '<a target=\"_blank\" href=https://colab.research.google.com/notebooks/data_table.ipynb>data table notebook</a>'\n",
              "            + ' to learn more about interactive tables.';\n",
              "          element.innerHTML = '';\n",
              "          dataTable['output_type'] = 'display_data';\n",
              "          await google.colab.output.renderOutput(dataTable, element);\n",
              "          const docLink = document.createElement('div');\n",
              "          docLink.innerHTML = docLinkHtml;\n",
              "          element.appendChild(docLink);\n",
              "        }\n",
              "      </script>\n",
              "    </div>\n",
              "  </div>\n",
              "  "
            ]
          },
          "metadata": {},
          "execution_count": 3
        }
      ]
    },
    {
      "cell_type": "code",
      "source": [
        "data.isnull().sum()"
      ],
      "metadata": {
        "colab": {
          "base_uri": "https://localhost:8080/"
        },
        "id": "c35hu_WZJMNz",
        "outputId": "1b6a2a17-0efa-475c-9e35-8610def97e50"
      },
      "execution_count": null,
      "outputs": [
        {
          "output_type": "execute_result",
          "data": {
            "text/plain": [
              "Employee_Name                   0\n",
              "EmpID                           0\n",
              "MarriedID                       0\n",
              "MaritalStatusID                 0\n",
              "GenderID                        0\n",
              "EmpStatusID                     0\n",
              "DeptID                          0\n",
              "PerfScoreID                     0\n",
              "FromDiversityJobFairID          0\n",
              "Salary                          0\n",
              "Termd                           0\n",
              "PositionID                      0\n",
              "Position                        0\n",
              "State                           0\n",
              "Zip                             0\n",
              "DOB                             0\n",
              "Sex                             0\n",
              "MaritalDesc                     0\n",
              "CitizenDesc                     0\n",
              "HispanicLatino                  0\n",
              "RaceDesc                        0\n",
              "DateofHire                      0\n",
              "DateofTermination             207\n",
              "TermReason                      0\n",
              "EmploymentStatus                0\n",
              "Department                      0\n",
              "ManagerName                     0\n",
              "ManagerID                       8\n",
              "RecruitmentSource               0\n",
              "PerformanceScore                0\n",
              "EngagementSurvey                0\n",
              "EmpSatisfaction                 0\n",
              "SpecialProjectsCount            0\n",
              "LastPerformanceReview_Date      0\n",
              "DaysLateLast30                  0\n",
              "Absences                        0\n",
              "dtype: int64"
            ]
          },
          "metadata": {},
          "execution_count": 4
        }
      ]
    },
    {
      "cell_type": "code",
      "source": [
        "data.describe().style.background_gradient(cmap='Greens')"
      ],
      "metadata": {
        "colab": {
          "base_uri": "https://localhost:8080/",
          "height": 320
        },
        "id": "0dbizHD7KJBY",
        "outputId": "2001ed00-f93e-47c5-c4c1-9974cddc799f"
      },
      "execution_count": null,
      "outputs": [
        {
          "output_type": "execute_result",
          "data": {
            "text/plain": [
              "<pandas.io.formats.style.Styler at 0x7f7cb84c76d0>"
            ],
            "text/html": [
              "<style type=\"text/css\">\n",
              "#T_6b60e_row0_col0, #T_6b60e_row6_col11 {\n",
              "  background-color: #f4fbf2;\n",
              "  color: #000000;\n",
              "}\n",
              "#T_6b60e_row0_col1, #T_6b60e_row0_col2, #T_6b60e_row0_col3, #T_6b60e_row0_col4, #T_6b60e_row0_col5, #T_6b60e_row0_col6, #T_6b60e_row0_col7, #T_6b60e_row0_col9, #T_6b60e_row0_col10, #T_6b60e_row0_col12, #T_6b60e_row0_col13, #T_6b60e_row0_col14, #T_6b60e_row0_col15, #T_6b60e_row0_col16, #T_6b60e_row0_col17, #T_6b60e_row7_col0, #T_6b60e_row7_col8, #T_6b60e_row7_col11 {\n",
              "  background-color: #00441b;\n",
              "  color: #f1f1f1;\n",
              "}\n",
              "#T_6b60e_row0_col8, #T_6b60e_row0_col11, #T_6b60e_row1_col1, #T_6b60e_row1_col2, #T_6b60e_row1_col3, #T_6b60e_row1_col7, #T_6b60e_row1_col9, #T_6b60e_row1_col16, #T_6b60e_row2_col0, #T_6b60e_row2_col1, #T_6b60e_row2_col2, #T_6b60e_row2_col3, #T_6b60e_row2_col4, #T_6b60e_row2_col5, #T_6b60e_row2_col6, #T_6b60e_row2_col7, #T_6b60e_row2_col9, #T_6b60e_row2_col13, #T_6b60e_row2_col14, #T_6b60e_row3_col1, #T_6b60e_row3_col2, #T_6b60e_row3_col3, #T_6b60e_row3_col4, #T_6b60e_row3_col5, #T_6b60e_row3_col6, #T_6b60e_row3_col7, #T_6b60e_row3_col9, #T_6b60e_row3_col10, #T_6b60e_row3_col12, #T_6b60e_row3_col13, #T_6b60e_row3_col14, #T_6b60e_row3_col15, #T_6b60e_row3_col16, #T_6b60e_row3_col17, #T_6b60e_row4_col1, #T_6b60e_row4_col2, #T_6b60e_row4_col3, #T_6b60e_row4_col4, #T_6b60e_row4_col7, #T_6b60e_row4_col9, #T_6b60e_row4_col15, #T_6b60e_row4_col16, #T_6b60e_row5_col1, #T_6b60e_row5_col2, #T_6b60e_row5_col3, #T_6b60e_row5_col4, #T_6b60e_row5_col7, #T_6b60e_row5_col9, #T_6b60e_row5_col15, #T_6b60e_row5_col16, #T_6b60e_row6_col1, #T_6b60e_row6_col2, #T_6b60e_row6_col3, #T_6b60e_row6_col7, #T_6b60e_row6_col9, #T_6b60e_row6_col15, #T_6b60e_row6_col16, #T_6b60e_row7_col1, #T_6b60e_row7_col3, #T_6b60e_row7_col7, #T_6b60e_row7_col9 {\n",
              "  background-color: #f7fcf5;\n",
              "  color: #000000;\n",
              "}\n",
              "#T_6b60e_row1_col0, #T_6b60e_row5_col0 {\n",
              "  background-color: #00481d;\n",
              "  color: #f1f1f1;\n",
              "}\n",
              "#T_6b60e_row1_col4, #T_6b60e_row1_col5, #T_6b60e_row1_col6, #T_6b60e_row1_col13, #T_6b60e_row1_col14, #T_6b60e_row1_col15, #T_6b60e_row2_col15, #T_6b60e_row2_col16, #T_6b60e_row3_col11, #T_6b60e_row4_col6, #T_6b60e_row4_col13, #T_6b60e_row4_col14, #T_6b60e_row5_col6, #T_6b60e_row5_col13, #T_6b60e_row5_col14, #T_6b60e_row6_col6, #T_6b60e_row7_col6 {\n",
              "  background-color: #f6fcf4;\n",
              "  color: #000000;\n",
              "}\n",
              "#T_6b60e_row1_col8 {\n",
              "  background-color: #c0e6b9;\n",
              "  color: #000000;\n",
              "}\n",
              "#T_6b60e_row1_col10 {\n",
              "  background-color: #f0f9ec;\n",
              "  color: #000000;\n",
              "}\n",
              "#T_6b60e_row1_col11 {\n",
              "  background-color: #eef8ea;\n",
              "  color: #000000;\n",
              "}\n",
              "#T_6b60e_row1_col12, #T_6b60e_row5_col12, #T_6b60e_row6_col17 {\n",
              "  background-color: #f1faee;\n",
              "  color: #000000;\n",
              "}\n",
              "#T_6b60e_row1_col17, #T_6b60e_row4_col12, #T_6b60e_row5_col17 {\n",
              "  background-color: #f3faf0;\n",
              "  color: #000000;\n",
              "}\n",
              "#T_6b60e_row2_col8 {\n",
              "  background-color: #e9f7e5;\n",
              "  color: #000000;\n",
              "}\n",
              "#T_6b60e_row2_col10, #T_6b60e_row2_col17, #T_6b60e_row4_col11, #T_6b60e_row5_col11, #T_6b60e_row7_col5, #T_6b60e_row7_col16 {\n",
              "  background-color: #f5fbf2;\n",
              "  color: #000000;\n",
              "}\n",
              "#T_6b60e_row2_col11 {\n",
              "  background-color: #dbf1d5;\n",
              "  color: #000000;\n",
              "}\n",
              "#T_6b60e_row2_col12, #T_6b60e_row7_col15 {\n",
              "  background-color: #f4fbf1;\n",
              "  color: #000000;\n",
              "}\n",
              "#T_6b60e_row3_col0 {\n",
              "  background-color: #004d1f;\n",
              "  color: #f1f1f1;\n",
              "}\n",
              "#T_6b60e_row3_col8 {\n",
              "  background-color: #d9f0d3;\n",
              "  color: #000000;\n",
              "}\n",
              "#T_6b60e_row4_col0 {\n",
              "  background-color: #004a1e;\n",
              "  color: #f1f1f1;\n",
              "}\n",
              "#T_6b60e_row4_col5, #T_6b60e_row4_col17, #T_6b60e_row5_col5, #T_6b60e_row6_col4, #T_6b60e_row6_col5, #T_6b60e_row6_col13, #T_6b60e_row6_col14, #T_6b60e_row7_col2, #T_6b60e_row7_col4, #T_6b60e_row7_col13, #T_6b60e_row7_col14 {\n",
              "  background-color: #f5fbf3;\n",
              "  color: #000000;\n",
              "}\n",
              "#T_6b60e_row4_col8 {\n",
              "  background-color: #ceecc8;\n",
              "  color: #000000;\n",
              "}\n",
              "#T_6b60e_row4_col10, #T_6b60e_row5_col10 {\n",
              "  background-color: #eff9ec;\n",
              "  color: #000000;\n",
              "}\n",
              "#T_6b60e_row5_col8 {\n",
              "  background-color: #c7e9c0;\n",
              "  color: #000000;\n",
              "}\n",
              "#T_6b60e_row6_col0 {\n",
              "  background-color: #00451c;\n",
              "  color: #f1f1f1;\n",
              "}\n",
              "#T_6b60e_row6_col8 {\n",
              "  background-color: #bce4b5;\n",
              "  color: #000000;\n",
              "}\n",
              "#T_6b60e_row6_col10, #T_6b60e_row6_col12, #T_6b60e_row7_col17 {\n",
              "  background-color: #eff9eb;\n",
              "  color: #000000;\n",
              "}\n",
              "#T_6b60e_row7_col10 {\n",
              "  background-color: #eaf7e6;\n",
              "  color: #000000;\n",
              "}\n",
              "#T_6b60e_row7_col12 {\n",
              "  background-color: #e5f5e0;\n",
              "  color: #000000;\n",
              "}\n",
              "</style>\n",
              "<table id=\"T_6b60e\" class=\"dataframe\">\n",
              "  <thead>\n",
              "    <tr>\n",
              "      <th class=\"blank level0\" >&nbsp;</th>\n",
              "      <th id=\"T_6b60e_level0_col0\" class=\"col_heading level0 col0\" >EmpID</th>\n",
              "      <th id=\"T_6b60e_level0_col1\" class=\"col_heading level0 col1\" >MarriedID</th>\n",
              "      <th id=\"T_6b60e_level0_col2\" class=\"col_heading level0 col2\" >MaritalStatusID</th>\n",
              "      <th id=\"T_6b60e_level0_col3\" class=\"col_heading level0 col3\" >GenderID</th>\n",
              "      <th id=\"T_6b60e_level0_col4\" class=\"col_heading level0 col4\" >EmpStatusID</th>\n",
              "      <th id=\"T_6b60e_level0_col5\" class=\"col_heading level0 col5\" >DeptID</th>\n",
              "      <th id=\"T_6b60e_level0_col6\" class=\"col_heading level0 col6\" >PerfScoreID</th>\n",
              "      <th id=\"T_6b60e_level0_col7\" class=\"col_heading level0 col7\" >FromDiversityJobFairID</th>\n",
              "      <th id=\"T_6b60e_level0_col8\" class=\"col_heading level0 col8\" >Salary</th>\n",
              "      <th id=\"T_6b60e_level0_col9\" class=\"col_heading level0 col9\" >Termd</th>\n",
              "      <th id=\"T_6b60e_level0_col10\" class=\"col_heading level0 col10\" >PositionID</th>\n",
              "      <th id=\"T_6b60e_level0_col11\" class=\"col_heading level0 col11\" >Zip</th>\n",
              "      <th id=\"T_6b60e_level0_col12\" class=\"col_heading level0 col12\" >ManagerID</th>\n",
              "      <th id=\"T_6b60e_level0_col13\" class=\"col_heading level0 col13\" >EngagementSurvey</th>\n",
              "      <th id=\"T_6b60e_level0_col14\" class=\"col_heading level0 col14\" >EmpSatisfaction</th>\n",
              "      <th id=\"T_6b60e_level0_col15\" class=\"col_heading level0 col15\" >SpecialProjectsCount</th>\n",
              "      <th id=\"T_6b60e_level0_col16\" class=\"col_heading level0 col16\" >DaysLateLast30</th>\n",
              "      <th id=\"T_6b60e_level0_col17\" class=\"col_heading level0 col17\" >Absences</th>\n",
              "    </tr>\n",
              "  </thead>\n",
              "  <tbody>\n",
              "    <tr>\n",
              "      <th id=\"T_6b60e_level0_row0\" class=\"row_heading level0 row0\" >count</th>\n",
              "      <td id=\"T_6b60e_row0_col0\" class=\"data row0 col0\" >311.000000</td>\n",
              "      <td id=\"T_6b60e_row0_col1\" class=\"data row0 col1\" >311.000000</td>\n",
              "      <td id=\"T_6b60e_row0_col2\" class=\"data row0 col2\" >311.000000</td>\n",
              "      <td id=\"T_6b60e_row0_col3\" class=\"data row0 col3\" >311.000000</td>\n",
              "      <td id=\"T_6b60e_row0_col4\" class=\"data row0 col4\" >311.000000</td>\n",
              "      <td id=\"T_6b60e_row0_col5\" class=\"data row0 col5\" >311.000000</td>\n",
              "      <td id=\"T_6b60e_row0_col6\" class=\"data row0 col6\" >311.000000</td>\n",
              "      <td id=\"T_6b60e_row0_col7\" class=\"data row0 col7\" >311.000000</td>\n",
              "      <td id=\"T_6b60e_row0_col8\" class=\"data row0 col8\" >311.000000</td>\n",
              "      <td id=\"T_6b60e_row0_col9\" class=\"data row0 col9\" >311.000000</td>\n",
              "      <td id=\"T_6b60e_row0_col10\" class=\"data row0 col10\" >311.000000</td>\n",
              "      <td id=\"T_6b60e_row0_col11\" class=\"data row0 col11\" >311.000000</td>\n",
              "      <td id=\"T_6b60e_row0_col12\" class=\"data row0 col12\" >303.000000</td>\n",
              "      <td id=\"T_6b60e_row0_col13\" class=\"data row0 col13\" >311.000000</td>\n",
              "      <td id=\"T_6b60e_row0_col14\" class=\"data row0 col14\" >311.000000</td>\n",
              "      <td id=\"T_6b60e_row0_col15\" class=\"data row0 col15\" >311.000000</td>\n",
              "      <td id=\"T_6b60e_row0_col16\" class=\"data row0 col16\" >311.000000</td>\n",
              "      <td id=\"T_6b60e_row0_col17\" class=\"data row0 col17\" >311.000000</td>\n",
              "    </tr>\n",
              "    <tr>\n",
              "      <th id=\"T_6b60e_level0_row1\" class=\"row_heading level0 row1\" >mean</th>\n",
              "      <td id=\"T_6b60e_row1_col0\" class=\"data row1 col0\" >10156.000000</td>\n",
              "      <td id=\"T_6b60e_row1_col1\" class=\"data row1 col1\" >0.398714</td>\n",
              "      <td id=\"T_6b60e_row1_col2\" class=\"data row1 col2\" >0.810289</td>\n",
              "      <td id=\"T_6b60e_row1_col3\" class=\"data row1 col3\" >0.434084</td>\n",
              "      <td id=\"T_6b60e_row1_col4\" class=\"data row1 col4\" >2.392283</td>\n",
              "      <td id=\"T_6b60e_row1_col5\" class=\"data row1 col5\" >4.610932</td>\n",
              "      <td id=\"T_6b60e_row1_col6\" class=\"data row1 col6\" >2.977492</td>\n",
              "      <td id=\"T_6b60e_row1_col7\" class=\"data row1 col7\" >0.093248</td>\n",
              "      <td id=\"T_6b60e_row1_col8\" class=\"data row1 col8\" >69020.684887</td>\n",
              "      <td id=\"T_6b60e_row1_col9\" class=\"data row1 col9\" >0.334405</td>\n",
              "      <td id=\"T_6b60e_row1_col10\" class=\"data row1 col10\" >16.845659</td>\n",
              "      <td id=\"T_6b60e_row1_col11\" class=\"data row1 col11\" >6555.482315</td>\n",
              "      <td id=\"T_6b60e_row1_col12\" class=\"data row1 col12\" >14.570957</td>\n",
              "      <td id=\"T_6b60e_row1_col13\" class=\"data row1 col13\" >4.110000</td>\n",
              "      <td id=\"T_6b60e_row1_col14\" class=\"data row1 col14\" >3.890675</td>\n",
              "      <td id=\"T_6b60e_row1_col15\" class=\"data row1 col15\" >1.218650</td>\n",
              "      <td id=\"T_6b60e_row1_col16\" class=\"data row1 col16\" >0.414791</td>\n",
              "      <td id=\"T_6b60e_row1_col17\" class=\"data row1 col17\" >10.237942</td>\n",
              "    </tr>\n",
              "    <tr>\n",
              "      <th id=\"T_6b60e_level0_row2\" class=\"row_heading level0 row2\" >std</th>\n",
              "      <td id=\"T_6b60e_row2_col0\" class=\"data row2 col0\" >89.922189</td>\n",
              "      <td id=\"T_6b60e_row2_col1\" class=\"data row2 col1\" >0.490423</td>\n",
              "      <td id=\"T_6b60e_row2_col2\" class=\"data row2 col2\" >0.943239</td>\n",
              "      <td id=\"T_6b60e_row2_col3\" class=\"data row2 col3\" >0.496435</td>\n",
              "      <td id=\"T_6b60e_row2_col4\" class=\"data row2 col4\" >1.794383</td>\n",
              "      <td id=\"T_6b60e_row2_col5\" class=\"data row2 col5\" >1.083487</td>\n",
              "      <td id=\"T_6b60e_row2_col6\" class=\"data row2 col6\" >0.587072</td>\n",
              "      <td id=\"T_6b60e_row2_col7\" class=\"data row2 col7\" >0.291248</td>\n",
              "      <td id=\"T_6b60e_row2_col8\" class=\"data row2 col8\" >25156.636930</td>\n",
              "      <td id=\"T_6b60e_row2_col9\" class=\"data row2 col9\" >0.472542</td>\n",
              "      <td id=\"T_6b60e_row2_col10\" class=\"data row2 col10\" >6.223419</td>\n",
              "      <td id=\"T_6b60e_row2_col11\" class=\"data row2 col11\" >16908.396884</td>\n",
              "      <td id=\"T_6b60e_row2_col12\" class=\"data row2 col12\" >8.078306</td>\n",
              "      <td id=\"T_6b60e_row2_col13\" class=\"data row2 col13\" >0.789938</td>\n",
              "      <td id=\"T_6b60e_row2_col14\" class=\"data row2 col14\" >0.909241</td>\n",
              "      <td id=\"T_6b60e_row2_col15\" class=\"data row2 col15\" >2.349421</td>\n",
              "      <td id=\"T_6b60e_row2_col16\" class=\"data row2 col16\" >1.294519</td>\n",
              "      <td id=\"T_6b60e_row2_col17\" class=\"data row2 col17\" >5.852596</td>\n",
              "    </tr>\n",
              "    <tr>\n",
              "      <th id=\"T_6b60e_level0_row3\" class=\"row_heading level0 row3\" >min</th>\n",
              "      <td id=\"T_6b60e_row3_col0\" class=\"data row3 col0\" >10001.000000</td>\n",
              "      <td id=\"T_6b60e_row3_col1\" class=\"data row3 col1\" >0.000000</td>\n",
              "      <td id=\"T_6b60e_row3_col2\" class=\"data row3 col2\" >0.000000</td>\n",
              "      <td id=\"T_6b60e_row3_col3\" class=\"data row3 col3\" >0.000000</td>\n",
              "      <td id=\"T_6b60e_row3_col4\" class=\"data row3 col4\" >1.000000</td>\n",
              "      <td id=\"T_6b60e_row3_col5\" class=\"data row3 col5\" >1.000000</td>\n",
              "      <td id=\"T_6b60e_row3_col6\" class=\"data row3 col6\" >1.000000</td>\n",
              "      <td id=\"T_6b60e_row3_col7\" class=\"data row3 col7\" >0.000000</td>\n",
              "      <td id=\"T_6b60e_row3_col8\" class=\"data row3 col8\" >45046.000000</td>\n",
              "      <td id=\"T_6b60e_row3_col9\" class=\"data row3 col9\" >0.000000</td>\n",
              "      <td id=\"T_6b60e_row3_col10\" class=\"data row3 col10\" >1.000000</td>\n",
              "      <td id=\"T_6b60e_row3_col11\" class=\"data row3 col11\" >1013.000000</td>\n",
              "      <td id=\"T_6b60e_row3_col12\" class=\"data row3 col12\" >1.000000</td>\n",
              "      <td id=\"T_6b60e_row3_col13\" class=\"data row3 col13\" >1.120000</td>\n",
              "      <td id=\"T_6b60e_row3_col14\" class=\"data row3 col14\" >1.000000</td>\n",
              "      <td id=\"T_6b60e_row3_col15\" class=\"data row3 col15\" >0.000000</td>\n",
              "      <td id=\"T_6b60e_row3_col16\" class=\"data row3 col16\" >0.000000</td>\n",
              "      <td id=\"T_6b60e_row3_col17\" class=\"data row3 col17\" >1.000000</td>\n",
              "    </tr>\n",
              "    <tr>\n",
              "      <th id=\"T_6b60e_level0_row4\" class=\"row_heading level0 row4\" >25%</th>\n",
              "      <td id=\"T_6b60e_row4_col0\" class=\"data row4 col0\" >10078.500000</td>\n",
              "      <td id=\"T_6b60e_row4_col1\" class=\"data row4 col1\" >0.000000</td>\n",
              "      <td id=\"T_6b60e_row4_col2\" class=\"data row4 col2\" >0.000000</td>\n",
              "      <td id=\"T_6b60e_row4_col3\" class=\"data row4 col3\" >0.000000</td>\n",
              "      <td id=\"T_6b60e_row4_col4\" class=\"data row4 col4\" >1.000000</td>\n",
              "      <td id=\"T_6b60e_row4_col5\" class=\"data row4 col5\" >5.000000</td>\n",
              "      <td id=\"T_6b60e_row4_col6\" class=\"data row4 col6\" >3.000000</td>\n",
              "      <td id=\"T_6b60e_row4_col7\" class=\"data row4 col7\" >0.000000</td>\n",
              "      <td id=\"T_6b60e_row4_col8\" class=\"data row4 col8\" >55501.500000</td>\n",
              "      <td id=\"T_6b60e_row4_col9\" class=\"data row4 col9\" >0.000000</td>\n",
              "      <td id=\"T_6b60e_row4_col10\" class=\"data row4 col10\" >18.000000</td>\n",
              "      <td id=\"T_6b60e_row4_col11\" class=\"data row4 col11\" >1901.500000</td>\n",
              "      <td id=\"T_6b60e_row4_col12\" class=\"data row4 col12\" >10.000000</td>\n",
              "      <td id=\"T_6b60e_row4_col13\" class=\"data row4 col13\" >3.690000</td>\n",
              "      <td id=\"T_6b60e_row4_col14\" class=\"data row4 col14\" >3.000000</td>\n",
              "      <td id=\"T_6b60e_row4_col15\" class=\"data row4 col15\" >0.000000</td>\n",
              "      <td id=\"T_6b60e_row4_col16\" class=\"data row4 col16\" >0.000000</td>\n",
              "      <td id=\"T_6b60e_row4_col17\" class=\"data row4 col17\" >5.000000</td>\n",
              "    </tr>\n",
              "    <tr>\n",
              "      <th id=\"T_6b60e_level0_row5\" class=\"row_heading level0 row5\" >50%</th>\n",
              "      <td id=\"T_6b60e_row5_col0\" class=\"data row5 col0\" >10156.000000</td>\n",
              "      <td id=\"T_6b60e_row5_col1\" class=\"data row5 col1\" >0.000000</td>\n",
              "      <td id=\"T_6b60e_row5_col2\" class=\"data row5 col2\" >1.000000</td>\n",
              "      <td id=\"T_6b60e_row5_col3\" class=\"data row5 col3\" >0.000000</td>\n",
              "      <td id=\"T_6b60e_row5_col4\" class=\"data row5 col4\" >1.000000</td>\n",
              "      <td id=\"T_6b60e_row5_col5\" class=\"data row5 col5\" >5.000000</td>\n",
              "      <td id=\"T_6b60e_row5_col6\" class=\"data row5 col6\" >3.000000</td>\n",
              "      <td id=\"T_6b60e_row5_col7\" class=\"data row5 col7\" >0.000000</td>\n",
              "      <td id=\"T_6b60e_row5_col8\" class=\"data row5 col8\" >62810.000000</td>\n",
              "      <td id=\"T_6b60e_row5_col9\" class=\"data row5 col9\" >0.000000</td>\n",
              "      <td id=\"T_6b60e_row5_col10\" class=\"data row5 col10\" >19.000000</td>\n",
              "      <td id=\"T_6b60e_row5_col11\" class=\"data row5 col11\" >2132.000000</td>\n",
              "      <td id=\"T_6b60e_row5_col12\" class=\"data row5 col12\" >15.000000</td>\n",
              "      <td id=\"T_6b60e_row5_col13\" class=\"data row5 col13\" >4.280000</td>\n",
              "      <td id=\"T_6b60e_row5_col14\" class=\"data row5 col14\" >4.000000</td>\n",
              "      <td id=\"T_6b60e_row5_col15\" class=\"data row5 col15\" >0.000000</td>\n",
              "      <td id=\"T_6b60e_row5_col16\" class=\"data row5 col16\" >0.000000</td>\n",
              "      <td id=\"T_6b60e_row5_col17\" class=\"data row5 col17\" >10.000000</td>\n",
              "    </tr>\n",
              "    <tr>\n",
              "      <th id=\"T_6b60e_level0_row6\" class=\"row_heading level0 row6\" >75%</th>\n",
              "      <td id=\"T_6b60e_row6_col0\" class=\"data row6 col0\" >10233.500000</td>\n",
              "      <td id=\"T_6b60e_row6_col1\" class=\"data row6 col1\" >1.000000</td>\n",
              "      <td id=\"T_6b60e_row6_col2\" class=\"data row6 col2\" >1.000000</td>\n",
              "      <td id=\"T_6b60e_row6_col3\" class=\"data row6 col3\" >1.000000</td>\n",
              "      <td id=\"T_6b60e_row6_col4\" class=\"data row6 col4\" >5.000000</td>\n",
              "      <td id=\"T_6b60e_row6_col5\" class=\"data row6 col5\" >5.000000</td>\n",
              "      <td id=\"T_6b60e_row6_col6\" class=\"data row6 col6\" >3.000000</td>\n",
              "      <td id=\"T_6b60e_row6_col7\" class=\"data row6 col7\" >0.000000</td>\n",
              "      <td id=\"T_6b60e_row6_col8\" class=\"data row6 col8\" >72036.000000</td>\n",
              "      <td id=\"T_6b60e_row6_col9\" class=\"data row6 col9\" >1.000000</td>\n",
              "      <td id=\"T_6b60e_row6_col10\" class=\"data row6 col10\" >20.000000</td>\n",
              "      <td id=\"T_6b60e_row6_col11\" class=\"data row6 col11\" >2355.000000</td>\n",
              "      <td id=\"T_6b60e_row6_col12\" class=\"data row6 col12\" >19.000000</td>\n",
              "      <td id=\"T_6b60e_row6_col13\" class=\"data row6 col13\" >4.700000</td>\n",
              "      <td id=\"T_6b60e_row6_col14\" class=\"data row6 col14\" >5.000000</td>\n",
              "      <td id=\"T_6b60e_row6_col15\" class=\"data row6 col15\" >0.000000</td>\n",
              "      <td id=\"T_6b60e_row6_col16\" class=\"data row6 col16\" >0.000000</td>\n",
              "      <td id=\"T_6b60e_row6_col17\" class=\"data row6 col17\" >15.000000</td>\n",
              "    </tr>\n",
              "    <tr>\n",
              "      <th id=\"T_6b60e_level0_row7\" class=\"row_heading level0 row7\" >max</th>\n",
              "      <td id=\"T_6b60e_row7_col0\" class=\"data row7 col0\" >10311.000000</td>\n",
              "      <td id=\"T_6b60e_row7_col1\" class=\"data row7 col1\" >1.000000</td>\n",
              "      <td id=\"T_6b60e_row7_col2\" class=\"data row7 col2\" >4.000000</td>\n",
              "      <td id=\"T_6b60e_row7_col3\" class=\"data row7 col3\" >1.000000</td>\n",
              "      <td id=\"T_6b60e_row7_col4\" class=\"data row7 col4\" >5.000000</td>\n",
              "      <td id=\"T_6b60e_row7_col5\" class=\"data row7 col5\" >6.000000</td>\n",
              "      <td id=\"T_6b60e_row7_col6\" class=\"data row7 col6\" >4.000000</td>\n",
              "      <td id=\"T_6b60e_row7_col7\" class=\"data row7 col7\" >1.000000</td>\n",
              "      <td id=\"T_6b60e_row7_col8\" class=\"data row7 col8\" >250000.000000</td>\n",
              "      <td id=\"T_6b60e_row7_col9\" class=\"data row7 col9\" >1.000000</td>\n",
              "      <td id=\"T_6b60e_row7_col10\" class=\"data row7 col10\" >30.000000</td>\n",
              "      <td id=\"T_6b60e_row7_col11\" class=\"data row7 col11\" >98052.000000</td>\n",
              "      <td id=\"T_6b60e_row7_col12\" class=\"data row7 col12\" >39.000000</td>\n",
              "      <td id=\"T_6b60e_row7_col13\" class=\"data row7 col13\" >5.000000</td>\n",
              "      <td id=\"T_6b60e_row7_col14\" class=\"data row7 col14\" >5.000000</td>\n",
              "      <td id=\"T_6b60e_row7_col15\" class=\"data row7 col15\" >8.000000</td>\n",
              "      <td id=\"T_6b60e_row7_col16\" class=\"data row7 col16\" >6.000000</td>\n",
              "      <td id=\"T_6b60e_row7_col17\" class=\"data row7 col17\" >20.000000</td>\n",
              "    </tr>\n",
              "  </tbody>\n",
              "</table>\n"
            ]
          },
          "metadata": {},
          "execution_count": 5
        }
      ]
    },
    {
      "cell_type": "code",
      "source": [
        "\n",
        "plt.subplot(1, 3, 1)\n",
        "plt.pie(data['GenderID'].value_counts().values,\n",
        "        labels = data['GenderID'].value_counts().index,\n",
        "        colors = ['gold','silver'],\n",
        "        startangle = 90,\n",
        "        shadow = True,\n",
        "       explode = [0.1, 0])"
      ],
      "metadata": {
        "colab": {
          "base_uri": "https://localhost:8080/",
          "height": 254
        },
        "id": "6w6Fm-6RKepq",
        "outputId": "f8528b5c-a94d-4ef3-a348-ded235b329b0"
      },
      "execution_count": null,
      "outputs": [
        {
          "output_type": "execute_result",
          "data": {
            "text/plain": [
              "([<matplotlib.patches.Wedge at 0x7f7cb82f6620>,\n",
              "  <matplotlib.patches.Wedge at 0x7f7cb82cae00>],\n",
              " [Text(-1.1743619105410885, -0.24672677817838276, '0'),\n",
              "  Text(1.076498396820784, 0.22616631411923888, '1')])"
            ]
          },
          "metadata": {},
          "execution_count": 6
        },
        {
          "output_type": "display_data",
          "data": {
            "text/plain": [
              "<Figure size 640x480 with 1 Axes>"
            ],
            "image/png": "[encoded data removed]"
          },
          "metadata": {}
        }
      ]
    },
    {
      "cell_type": "code",
      "source": [
        "plt.subplot(1, 2, 1)\n",
        "plt.show()"
      ],
      "metadata": {
        "colab": {
          "base_uri": "https://localhost:8080/",
          "height": 435
        },
        "id": "kkn5fxLLRb5K",
        "outputId": "1c7e264c-4ac4-4dfa-e527-55885454acbe"
      },
      "execution_count": null,
      "outputs": [
        {
          "output_type": "display_data",
          "data": {
            "text/plain": [
              "<Figure size 640x480 with 1 Axes>"
            ],
            "image/png": "[encoded data removed]"
          },
          "metadata": {}
        }
      ]
    },
    {
      "cell_type": "code",
      "source": [],
      "metadata": {
        "id": "jwiw8SP4QD4S"
      },
      "execution_count": null,
      "outputs": []
    },
    {
      "cell_type": "code",
      "source": [
        "\n",
        "sns.barplot(data=data, x='PositionID', y='EmpSatisfaction')\n",
        "plt.show()\n"
      ],
      "metadata": {
        "colab": {
          "base_uri": "https://localhost:8080/",
          "height": 449
        },
        "id": "W_vmAYyYXuf7",
        "outputId": "6f7d0751-d03a-4c29-82a2-2130d1642877"
      },
      "execution_count": null,
      "outputs": [
        {
          "output_type": "display_data",
          "data": {
            "text/plain": [
              "<Figure size 640x480 with 1 Axes>"
            ],
            "image/png": "[encoded data removed]"
          },
          "metadata": {}
        }
      ]
    },
    {
      "cell_type": "markdown",
      "source": [
        "A boxplot"
      ],
      "metadata": {
        "id": "z_VqPMBKzLj-"
      }
    },
    {
      "cell_type": "code",
      "source": [
        "sns.catplot(data=data, x=\"PositionID\", y=\"EmploymentStatus\", kind=\"box\")"
      ],
      "metadata": {
        "colab": {
          "base_uri": "https://localhost:8080/",
          "height": 524
        },
        "id": "hP_XinVcL0Ta",
        "outputId": "dc1d7241-7559-439a-cc42-e6b2cd7a830f"
      },
      "execution_count": null,
      "outputs": [
        {
          "output_type": "execute_result",
          "data": {
            "text/plain": [
              "<seaborn.axisgrid.FacetGrid at 0x7f7cb5e3a3e0>"
            ]
          },
          "metadata": {},
          "execution_count": 10
        },
        {
          "output_type": "display_data",
          "data": {
            "text/plain": [
              "<Figure size 500x500 with 1 Axes>"
            ],
            "image/png": "[encoded data removed]"
          },
          "metadata": {}
        }
      ]
    },
    {
      "cell_type": "code",
      "source": [
        "plt.pie"
      ],
      "metadata": {
        "id": "NfJHLIiISOrQ",
        "colab": {
          "base_uri": "https://localhost:8080/"
        },
        "outputId": "5e87f7b6-473c-4ef2-ea37-6ecd8c254da0"
      },
      "execution_count": null,
      "outputs": [
        {
          "output_type": "execute_result",
          "data": {
            "text/plain": [
              "<function matplotlib.pyplot.pie(x, explode=None, labels=None, colors=None, autopct=None, pctdistance=0.6, shadow=False, labeldistance=1.1, startangle=0, radius=1, counterclock=True, wedgeprops=None, textprops=None, center=(0, 0), frame=False, rotatelabels=False, *, normalize=True, hatch=None, data=None)>"
            ]
          },
          "metadata": {},
          "execution_count": 11
        }
      ]
    },
    {
      "cell_type": "code",
      "source": [
        "plt.subplot(1, 2, 1)\n",
        "#data['TermReason'].drop()\n",
        "plt.pie(data['TermReason'].value_counts(),\n",
        "labels=data['TermReason'].value_counts(),\n",
        "  startangle = 90,\n",
        "        shadow = True)"
      ],
      "metadata": {
        "colab": {
          "base_uri": "https://localhost:8080/",
          "height": 914
        },
        "id": "zkfYOqeAONPz",
        "outputId": "bd41af7c-d074-4d57-dcfe-712b560b9a0f"
      },
      "execution_count": null,
      "outputs": [
        {
          "output_type": "execute_result",
          "data": {
            "text/plain": [
              "([<matplotlib.patches.Wedge at 0x7f7cb4fd4e50>,\n",
              "  <matplotlib.patches.Wedge at 0x7f7cb4f8b490>,\n",
              "  <matplotlib.patches.Wedge at 0x7f7cb4fd5ba0>,\n",
              "  <matplotlib.patches.Wedge at 0x7f7cb4fd6260>,\n",
              "  <matplotlib.patches.Wedge at 0x7f7cb4fd6920>,\n",
              "  <matplotlib.patches.Wedge at 0x7f7cb4fd6fe0>,\n",
              "  <matplotlib.patches.Wedge at 0x7f7cb5e8e9b0>,\n",
              "  <matplotlib.patches.Wedge at 0x7f7cb5fc7910>,\n",
              "  <matplotlib.patches.Wedge at 0x7f7cb4f8bf40>,\n",
              "  <matplotlib.patches.Wedge at 0x7f7cb4f89780>,\n",
              "  <matplotlib.patches.Wedge at 0x7f7cb4f8b040>,\n",
              "  <matplotlib.patches.Wedge at 0x7f7cb4f8a7d0>,\n",
              "  <matplotlib.patches.Wedge at 0x7f7cb4f5e920>,\n",
              "  <matplotlib.patches.Wedge at 0x7f7cb4f5d240>,\n",
              "  <matplotlib.patches.Wedge at 0x7f7cb4f5d540>,\n",
              "  <matplotlib.patches.Wedge at 0x7f7cb4f5f790>,\n",
              "  <matplotlib.patches.Wedge at 0x7f7cb4f5cb50>,\n",
              "  <matplotlib.patches.Wedge at 0x7f7cb4f5e3e0>],\n",
              " [Text(-0.9544744620778243, -0.5467892658431109, '207'),\n",
              "  Text(1.041250552796683, -0.35467913147040653, '20'),\n",
              "  Text(1.0998737234443667, 0.016667107626242666, '14'),\n",
              "  Text(1.0608223104913947, 0.29095708543305693, '11'),\n",
              "  Text(0.9808626833769981, 0.4979040031557037, '9'),\n",
              "  Text(0.8813514118104852, 0.6581942638003351, '8'),\n",
              "  Text(0.7719022088376611, 0.7836880629380161, '7'),\n",
              "  Text(0.6714725567348391, 0.8712775708991817, '5'),\n",
              "  Text(0.5801863209398334, 0.9345500698166475, '5'),\n",
              "  Text(0.492943306934742, 0.9833650879242363, '4'),\n",
              "  Text(0.41195266252038953, 1.0199485299966673, '4'),\n",
              "  Text(0.3282731476798309, 1.0498746308547398, '4'),\n",
              "  Text(0.24245094985935364, 1.072948058813798, '4'),\n",
              "  Text(0.1660389532986828, 1.087396462191908, '3'),\n",
              "  Text(0.09986785788077393, 1.0954571698438536, '3'),\n",
              "  Text(0.055534976714749745, 1.0985972266309851, '1'),\n",
              "  Text(0.033330008989794296, 1.09949493427698, '1'),\n",
              "  Text(0.011111437484749876, 1.0999438785488207, '1')])"
            ]
          },
          "metadata": {},
          "execution_count": 14
        },
        {
          "output_type": "display_data",
          "data": {
            "text/plain": [
              "<Figure size 640x480 with 1 Axes>"
            ],
            "image/png": "[encoded data removed]"
          },
          "metadata": {}
        }
      ]
    },
    {
      "cell_type": "code",
      "source": [
        "sns.catplot(\n",
        "    data=data, y=\"EmploymentStatus\", hue=\"Sex\", kind=\"count\",\n",
        "    palette=\"pastel\", edgecolor=\".6\",\n",
        ")"
      ],
      "metadata": {
        "id": "JI-5LINYNyy_",
        "colab": {
          "base_uri": "https://localhost:8080/",
          "height": 524
        },
        "outputId": "49ace3af-9078-465e-dde4-928ed11adfe6"
      },
      "execution_count": null,
      "outputs": [
        {
          "output_type": "execute_result",
          "data": {
            "text/plain": [
              "<seaborn.axisgrid.FacetGrid at 0x7f7cb4fad060>"
            ]
          },
          "metadata": {},
          "execution_count": 15
        },
        {
          "output_type": "display_data",
          "data": {
            "text/plain": [
              "<Figure size 566.375x500 with 1 Axes>"
            ],
            "image/png": "[encoded data removed]"
          },
          "metadata": {}
        }
      ]
    }
  ]
}